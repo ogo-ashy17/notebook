{
 "cells": [
  {
   "cell_type": "markdown",
   "metadata": {},
   "source": [
    "## [ObjectType](https://docs.graphene-python.org/en/latest/types/objecttypes/)\n",
    "\n",
    "A Graphene ObjectType is the building block used to define the relationship between Fields in your Schema and how their data is retrieved.\n",
    "\n",
    "The basics:\n",
    "- Each ObjectType is a Python class that inherits from graphene.ObjectType.\n",
    "- Each attribute of the ObjectType represents a Field.\n",
    "- Each Field has a resolver method to fetch data (or Default Resolver).\n",
    "\n",
    "### Quick exmaple\n",
    "\n",
    "This example model defines a Person, with a first and a last name:"
   ]
  },
  {
   "cell_type": "code",
   "execution_count": null,
   "metadata": {},
   "outputs": [],
   "source": [
    "from graphene import ObjectType, String\n",
    "\n",
    "class Person(ObjectType):\n",
    "    first_name = String()\n",
    "    last_name = String()\n",
    "    full_name = String()\n",
    "\n",
    "    def resolve_full_name(parent, info):\n",
    "        return f'{parent.first_name} {parent.last_name}'"
   ]
  },
  {
   "cell_type": "markdown",
   "metadata": {},
   "source": [
    "This ObjectType defines the field first_name, last_name, and full_name. Each field is specified as a class attribute, and each attribute maps to a Field. Data is fetched by our ```resolve_full_name``` resolver method for full_name field and the Default Resolver for other fields.\n",
    "\n",
    "The above ```Person``` ObjectType has the following schema representation:\n",
    "\n",
    "---\n",
    "```python\n",
    "type Person {\n",
    "  firstName: String\n",
    "  lastName: String\n",
    "  fullName: String\n",
    "}\n",
    "```\n",
    "---\n",
    "\n",
    "### Resolvers\n",
    "\n",
    "A Resolver is a method that helps us answer Queries by fetching data for a Field in our Schema.\n",
    "\n",
    "Resolvers are lazily executed, so if a field is not included in a query, its resolver will not be executed.\n",
    "\n",
    "Each field on an ObjectType in Graphene should have a corresponding resolver method to fetch data. This resolver method should match the field name. For example, in the ```Person``` type above, the ```full_name``` field is resolved by the method ```resolve_full_name```.\n",
    "\n",
    "Each resolver method takes the parameters:\n",
    "- Parent Value Object (parent) for the value object use to resolve most fields\n",
    "- GraphQL Execution Info (info) for query and schema meta information and per-request context\n",
    "- GraphQL Arguments (**kwargs) as defined on the Field.\n",
    "\n",
    "#### Resolver Parameters\n",
    "##### Parent Value Object(parent)\n",
    "\n",
    "This parameter is typically used to derive the values for most fields on an ObjectType.\n",
    "\n"
   ]
  },
  {
   "cell_type": "code",
   "execution_count": null,
   "metadata": {},
   "outputs": [],
   "source": [
    "from graphene import ObjectType, String, Field, Schema\n",
    "\n",
    "class Person(ObjectType):\n",
    "    full_name = String()\n",
    "\n",
    "    def resolve_full_name(parent, info):\n",
    "        return f'{parent.first_name} {parent.last_name}'\n",
    "    \n",
    "class Query(ObjectType):\n",
    "    me = Field(Person)\n",
    "\n",
    "    def resolve_me(parent, info):\n",
    "        # returns an object that represents a Person\n",
    "        return get_human(name='Luke Skywalker')\n",
    "    \n",
    "schema = Schema(query=Query)\n",
    "\n",
    "query_string = \"{ me { fullName } }\"\n",
    "result = schema.execute(query_string)\n",
    "\n",
    "assert result.data[\"me\"] == {\"fullName\": \"Luke Skywalker\"}"
   ]
  },
  {
   "cell_type": "code",
   "execution_count": null,
   "metadata": {},
   "outputs": [],
   "source": []
  }
 ],
 "metadata": {
  "kernelspec": {
   "display_name": ".venv",
   "language": "python",
   "name": "python3"
  },
  "language_info": {
   "codemirror_mode": {
    "name": "ipython",
    "version": 3
   },
   "file_extension": ".py",
   "mimetype": "text/x-python",
   "name": "python",
   "nbconvert_exporter": "python",
   "pygments_lexer": "ipython3",
   "version": "3.9.7"
  }
 },
 "nbformat": 4,
 "nbformat_minor": 2
}
