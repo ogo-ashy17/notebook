{
 "cells": [
  {
   "cell_type": "markdown",
   "metadata": {},
   "source": [
    "## [Executing a query](https://docs.graphene-python.org/en/latest/execution/execute/)\n",
    "\n",
    "For executing a query against a schema, you can directly call the execute method on it.\n",
    "\n",
    "---\n",
    "```python\n",
    "from graphene import Schema\n",
    "\n",
    "schema = Schema(...)\n",
    "result = schema.execute('{ name }')\n",
    "```\n",
    "---\n",
    "\n",
    "```result``` represents the result of execution. ```result.data``` is the result of executing the query, ```result.errors``` is ```None``` if no errors occurred, and is a non-empty list if error occurred.\n",
    "\n",
    "### Context\n",
    "\n",
    "You can pass ```context``` to a query via ```context```."
   ]
  },
  {
   "cell_type": "code",
   "execution_count": 2,
   "metadata": {},
   "outputs": [
    {
     "name": "stdout",
     "output_type": "stream",
     "text": [
      "{'name': 'Syrus'}\n",
      "ExecutionResult(data={'name': 'Syrus'}, errors=None)\n"
     ]
    }
   ],
   "source": [
    "from graphene import ObjectType, String, Schema\n",
    "\n",
    "class Query(ObjectType):\n",
    "    name = String()\n",
    "\n",
    "    def resolve_name(root, info):\n",
    "        return info.context.get('name')\n",
    "    \n",
    "schema = Schema(Query)\n",
    "result = schema.execute('{ name }', context={'name': 'Syrus'})\n",
    "assert result.data['name'] == 'Syrus'\n",
    "print(result.data)\n",
    "print(result)"
   ]
  },
  {
   "cell_type": "markdown",
   "metadata": {},
   "source": [
    "### Variables\n",
    "\n",
    "You can pass variables to a query via ```variables```."
   ]
  },
  {
   "cell_type": "code",
   "execution_count": null,
   "metadata": {},
   "outputs": [],
   "source": [
    "from graphene import ObjectType, Field, ID, Schema\n",
    "\n",
    "class Query(ObjectType):\n",
    "    user = Field(User, id=ID(required=True))\n",
    "\n",
    "    def resolve_user(root, info, id):\n",
    "        return get_user_by_id(id)\n",
    "    \n",
    "schema = Schema(Query)\n",
    "result = schema.execute(\n",
    "    '''\n",
    "    query getUser($id: ID) {\n",
    "        user(id: $id) {\n",
    "            id\n",
    "            firstName\n",
    "            lastName\n",
    "            }\n",
    "        }\n",
    "    ''',\n",
    "    variables={'id': 12}\n",
    ")"
   ]
  },
  {
   "cell_type": "code",
   "execution_count": null,
   "metadata": {},
   "outputs": [],
   "source": []
  }
 ],
 "metadata": {
  "kernelspec": {
   "display_name": ".venv",
   "language": "python",
   "name": "python3"
  },
  "language_info": {
   "codemirror_mode": {
    "name": "ipython",
    "version": 3
   },
   "file_extension": ".py",
   "mimetype": "text/x-python",
   "name": "python",
   "nbconvert_exporter": "python",
   "pygments_lexer": "ipython3",
   "version": "3.9.7"
  }
 },
 "nbformat": 4,
 "nbformat_minor": 2
}
