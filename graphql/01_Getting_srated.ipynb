{
 "cells": [
  {
   "cell_type": "markdown",
   "metadata": {},
   "source": [
    "## [Introduction](https://docs.graphene-python.org/en/latest/quickstart/)\n",
    "\n",
    "### What is GraphQL?\n",
    "GraphQL is a query language for your API.\n",
    "\n",
    "It provides a standard way to:\n",
    "\n",
    "describe data provided by a server in a statically typed Schema\n",
    "request data in a Query which exactly describes your data requirements and\n",
    "receive data in a Response containing only the data you requested.\n",
    "\n",
    "### What is Graphene?\n",
    "\n",
    "Graphene is a library that provides tools to implement a GraphQL API in Python using a code-first approach.\n",
    "\n",
    "Compare Graphene’s code-first approach to building a GraphQL API with schema-first approaches like Apollo Server (JavaScript) or Ariadne (Python). Instead of writing GraphQL Schema Definition Language (SDL), we write Python code to describe the data provided by your server."
   ]
  },
  {
   "cell_type": "markdown",
   "metadata": {
    "vscode": {
     "languageId": "plaintext"
    }
   },
   "source": [
    "### An example in Graphene\n",
    "\n",
    "Let’s build a basic GraphQL schema to say “hello” and “goodbye” in Graphene.\n",
    "\n",
    "---\n",
    "Query:\n",
    "```python\n",
    "{\n",
    "  hello(firstName: \"friend\")\n",
    "}\n",
    "```\n",
    "---\n",
    "Return:\n",
    "```python\n",
    "{\n",
    "  \"data\": {\n",
    "    \"hello\": \"Hello friend!\"\n",
    "  }\n",
    "}\n",
    "```\n",
    "---"
   ]
  },
  {
   "cell_type": "markdown",
   "metadata": {
    "vscode": {
     "languageId": "plaintext"
    }
   },
   "source": [
    "### Creating a basic Schema\n",
    "\n",
    "In Graphene, we can define a simple schema using the following code:"
   ]
  },
  {
   "cell_type": "code",
   "execution_count": 1,
   "metadata": {},
   "outputs": [],
   "source": [
    "from graphene import ObjectType, String, Schema\n",
    "\n",
    "class Query(ObjectType):\n",
    "    # this defines a Field `hello` in our Schema with a single Argument `first_name`\n",
    "    # By default, the argument name will automatically be camel-based into firstName in the generated schema\n",
    "    hello = String(first_name=String(default_value='stranger'))\n",
    "    goodbye = String()\n",
    "\n",
    "    # our Resolver method takes the GraphQL context (root, info) as well as\n",
    "    # Argument (first_name) for the Field and returns data for the query Response\n",
    "    # GraphQL のリゾルバは「リクエストを処理し、適切なデータを取得する関数」のこと\n",
    "    def resolve_hello(root, info, first_name):\n",
    "        return f'Hello {first_name}!'\n",
    "\n",
    "    def resolve_goodbye(root, info):\n",
    "        return 'See ya!'\n",
    "\n",
    "schema = Schema(query=Query)"
   ]
  },
  {
   "cell_type": "markdown",
   "metadata": {},
   "source": [
    "A GraphQL Schema describes each Field in the data model provided by the server using scalar types like String, Int and Enum and compound types like List and Object.\n",
    "\n",
    "Our schema can also define any number of Arguments for our Fields. This is a powerful way for a Query to describe the exact data requirements for each Field.\n",
    "\n",
    "For each Field in our Schema, we write a Resolver method to fetch data requested by a client’s Query using the current context and Arguments."
   ]
  },
  {
   "cell_type": "markdown",
   "metadata": {},
   "source": [
    "### Schema Definition Language (SDL)\n",
    "\n",
    "In the GraphQL Schema Definition Language, we could describe the fields defined by our example code as shown below.\n",
    "\n",
    "```python\n",
    "type Query {\n",
    "    hello(firstName: String = 'stranger'): String\n",
    "    goodbye: String\n",
    "}\n",
    "```\n",
    "Further examples in this documentation will use SDL to describe schema created by ObjectTypes and other fields.\n",
    "\n",
    "### Querying\n",
    "\n",
    "Then we can start querying our Schema by passing a GraphQL query string to ```execute```:"
   ]
  },
  {
   "cell_type": "code",
   "execution_count": 11,
   "metadata": {},
   "outputs": [
    {
     "name": "stdout",
     "output_type": "stream",
     "text": [
      "ExecutionResult(data={'hello': 'Hello stranger!'}, errors=None)\n",
      "Hello stranger!\n",
      "ExecutionResult(data={'hello': 'Hello GraphQL!'}, errors=None)\n",
      "Hello GraphQL!\n",
      "ExecutionResult(data={'goodbye': 'See ya!'}, errors=None)\n",
      "See ya!\n"
     ]
    }
   ],
   "source": [
    "# we can query for our field (with the default argument)\n",
    "query_string = '{ hello }'\n",
    "result = schema.execute(query_string)\n",
    "print(result)\n",
    "print(result.data['hello'])\n",
    "\n",
    "# or passing the argument in the query\n",
    "query_with_argument = '{ hello(firstName: \"GraphQL\")}'\n",
    "result = schema.execute(query_with_argument)\n",
    "print(result)\n",
    "print(result.data['hello'])\n",
    "\n",
    "query_string = '{ goodbye }'\n",
    "result = schema.execute(query_string)\n",
    "print(result)\n",
    "print(result.data['goodbye'])"
   ]
  },
  {
   "cell_type": "markdown",
   "metadata": {},
   "source": [
    "Normally, we don’t need to directly execute a query string against our schema as Graphene provides many useful Integrations with popular web frameworks like Flask and Django."
   ]
  }
 ],
 "metadata": {
  "kernelspec": {
   "display_name": ".venv",
   "language": "python",
   "name": "python3"
  },
  "language_info": {
   "codemirror_mode": {
    "name": "ipython",
    "version": 3
   },
   "file_extension": ".py",
   "mimetype": "text/x-python",
   "name": "python",
   "nbconvert_exporter": "python",
   "pygments_lexer": "ipython3",
   "version": "3.9.7"
  }
 },
 "nbformat": 4,
 "nbformat_minor": 2
}
