{
 "cells": [
  {
   "cell_type": "markdown",
   "metadata": {},
   "source": [
    "## [Scalars](https://docs.graphene-python.org/en/latest/types/scalars/)\n",
    "\n",
    "Scalar types represent concrete values at the leaves of a query. There are several built in types that Graphene provides out of the box which represent common values in Python. You can also create your own Scalar types to better express values that you might have in your data model.\n",
    "\n",
    "All Scalar types accept the following arguments. All are optional:\n",
    "\n",
    "```name```: string  \n",
    "    Override the name of the Field.\n",
    "\n",
    "```description```: string  \n",
    "    A description of the type to show in the GraphiQL browser.\n",
    "\n",
    "```required```: boolean  \n",
    "    If ```True```, the server will enforce a value for this field. See NonNull. Default is ```False```.\n",
    "\n",
    "```deprecation_reason```: string  \n",
    "    Provide a deprecation reason for the Field.\n",
    "\n",
    "```default_value```: any  \n",
    "    Provide a default value for the Field.\n",
    "\n",
    "Graphene also provides custom scalars for common values:\n",
    "```\n",
    "graphene.Data\n",
    "```"
   ]
  },
  {
   "cell_type": "code",
   "execution_count": 24,
   "metadata": {},
   "outputs": [
    {
     "name": "stdout",
     "output_type": "stream",
     "text": [
      "{'oneWeekFrom': '2006-01-09'}\n",
      "ExecutionResult(data={'oneWeekFrom': '2006-01-09'}, errors=None)\n"
     ]
    }
   ],
   "source": [
    "import datetime\n",
    "from graphene import Schema, ObjectType, Date\n",
    "\n",
    "class Query(ObjectType):\n",
    "    one_week_from = Date(required=True, date_input=Date(required=True))\n",
    "\n",
    "    def resolve_one_week_from(self, info, date_input):\n",
    "        assert date_input == datetime.date(2006, 1, 2)\n",
    "        return date_input + datetime.timedelta(weeks=1)\n",
    "    \n",
    "schema  = Schema(query=Query)\n",
    "\n",
    "result = schema.execute('''\n",
    "    query {\n",
    "        oneWeekFrom(dateInput: \"2006-01-02\")\n",
    "    }\n",
    "''')\n",
    "\n",
    "# 偽の場合はエラーになる\n",
    "assert result.data == {'oneWeekFrom': '2006-01-09'}\n",
    "print(result.data)\n",
    "print(result)"
   ]
  },
  {
   "cell_type": "markdown",
   "metadata": {},
   "source": [
    "```graphene.Datetime```"
   ]
  },
  {
   "cell_type": "code",
   "execution_count": 26,
   "metadata": {},
   "outputs": [
    {
     "name": "stdout",
     "output_type": "stream",
     "text": [
      "{'oneHourFrom': '2006-01-02T16:04:05'}\n",
      "ExecutionResult(data={'oneHourFrom': '2006-01-02T16:04:05'}, errors=None)\n"
     ]
    }
   ],
   "source": [
    "import datetime\n",
    "from graphene import Schema, ObjectType, DateTime\n",
    "\n",
    "class Query(ObjectType):\n",
    "    one_hour_from = DateTime(required=True, datetime_input=DateTime(required=True))\n",
    "\n",
    "    def resolve_one_hour_from(self, info, datetime_input):\n",
    "        assert datetime_input == datetime.datetime(2006, 1, 2, 15, 4, 5)\n",
    "        return datetime_input + datetime.timedelta(hours=1)\n",
    "    \n",
    "schema = Schema(query=Query)\n",
    "\n",
    "result = schema.execute('''\n",
    "    query {\n",
    "        oneHourFrom(datetimeInput: \"2006-01-02T15:04:05\")\n",
    "    }\n",
    "''')\n",
    "\n",
    "assert result.data == {'oneHourFrom': '2006-01-02T16:04:05'}\n",
    "print(result.data)\n",
    "print(result)"
   ]
  },
  {
   "cell_type": "code",
   "execution_count": null,
   "metadata": {},
   "outputs": [],
   "source": []
  }
 ],
 "metadata": {
  "kernelspec": {
   "display_name": ".venv",
   "language": "python",
   "name": "python3"
  },
  "language_info": {
   "codemirror_mode": {
    "name": "ipython",
    "version": 3
   },
   "file_extension": ".py",
   "mimetype": "text/x-python",
   "name": "python",
   "nbconvert_exporter": "python",
   "pygments_lexer": "ipython3",
   "version": "3.9.7"
  }
 },
 "nbformat": 4,
 "nbformat_minor": 2
}
