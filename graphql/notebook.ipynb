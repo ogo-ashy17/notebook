{
 "cells": [
  {
   "cell_type": "code",
   "execution_count": 2,
   "metadata": {},
   "outputs": [],
   "source": [
    "from graphene import ObjectType, String, Int, List, Schema, Mutation, Field\n",
    "\n",
    "# データベースの代わりとなるリスト\n",
    "books = [\n",
    "    {'id': 1, 'title': 'Pythonプログラミング', 'author': '山田太郎'},\n",
    "    {'id': 2, 'title': 'GraphQL入門', 'author': '佐藤花子'}\n",
    "]\n",
    "\n",
    "class Book(ObjectType):\n",
    "    id = Int()\n",
    "    title = String()\n",
    "    author = String()\n",
    "\n",
    "class Query(ObjectType):\n",
    "    books = List(Book)\n",
    "    book = Field(Book, id=Int(required=True))\n",
    "\n",
    "    def resolve_books(self, info):\n",
    "        return books\n",
    "\n",
    "    def resolve_book(self, info, id):\n",
    "        for book in books:\n",
    "            if book['id'] == id:\n",
    "                return book\n",
    "        return None\n",
    "\n",
    "schema = Schema(query=Query)"
   ]
  },
  {
   "cell_type": "code",
   "execution_count": 3,
   "metadata": {},
   "outputs": [
    {
     "name": "stdout",
     "output_type": "stream",
     "text": [
      "{'books': [{'id': 1, 'title': 'Pythonプログラミング', 'author': '山田太郎'}, {'id': 2, 'title': 'GraphQL入門', 'author': '佐藤花子'}]}\n"
     ]
    }
   ],
   "source": [
    "# 全ての書籍を取得\n",
    "query_string = '''\n",
    "{\n",
    "    books {\n",
    "        id\n",
    "        title\n",
    "        author\n",
    "    }\n",
    "}\n",
    "'''\n",
    "\n",
    "result = schema.execute(query_string)\n",
    "print(result.data)"
   ]
  },
  {
   "cell_type": "code",
   "execution_count": 4,
   "metadata": {},
   "outputs": [
    {
     "name": "stdout",
     "output_type": "stream",
     "text": [
      "{'book': {'title': 'GraphQL入門', 'author': '佐藤花子'}}\n"
     ]
    }
   ],
   "source": [
    "# 特定の書籍を取得\n",
    "single_query_string = '''\n",
    "{\n",
    "    book(id: 2) {\n",
    "        title\n",
    "        author\n",
    "    }\n",
    "}\n",
    "'''\n",
    "\n",
    "result = schema.execute(single_query_string)\n",
    "print(result.data)"
   ]
  },
  {
   "cell_type": "code",
   "execution_count": 5,
   "metadata": {},
   "outputs": [],
   "source": [
    "class CreateBook(Mutation):\n",
    "    class Arguments:\n",
    "        title = String(required=True)\n",
    "        author = String(required=True)\n",
    "\n",
    "    book = Field(Book)\n",
    "\n",
    "    def mutate(self, info, title, author):\n",
    "        new_id = max(book['id'] for book in books) + 1\n",
    "        new_book = {'id': new_id, 'title': title, 'author': author}\n",
    "        books.append(new_book)\n",
    "        return CreateBook(book=new_book)\n",
    "    \n",
    "class Mutations(ObjectType):\n",
    "    create_book = CreateBook.Field()\n",
    "\n",
    "schema = Schema(query=Query, mutation=Mutations)"
   ]
  },
  {
   "cell_type": "code",
   "execution_count": 6,
   "metadata": {},
   "outputs": [
    {
     "name": "stdout",
     "output_type": "stream",
     "text": [
      "{'createBook': {'book': {'id': 3, 'title': 'GraphQL実践', 'author': '鈴木一郎'}}}\n"
     ]
    }
   ],
   "source": [
    "mutation_string = '''\n",
    "mutation {\n",
    "    createBook(title: \"GraphQL実践\", author: \"鈴木一郎\"){\n",
    "        book {\n",
    "            id\n",
    "            title\n",
    "            author\n",
    "        }\n",
    "    }\n",
    "}\n",
    "'''\n",
    "\n",
    "result = schema.execute(mutation_string)\n",
    "print(result.data)"
   ]
  },
  {
   "cell_type": "code",
   "execution_count": null,
   "metadata": {},
   "outputs": [],
   "source": []
  }
 ],
 "metadata": {
  "kernelspec": {
   "display_name": ".venv",
   "language": "python",
   "name": "python3"
  },
  "language_info": {
   "codemirror_mode": {
    "name": "ipython",
    "version": 3
   },
   "file_extension": ".py",
   "mimetype": "text/x-python",
   "name": "python",
   "nbconvert_exporter": "python",
   "pygments_lexer": "ipython3",
   "version": "3.9.7"
  }
 },
 "nbformat": 4,
 "nbformat_minor": 2
}
